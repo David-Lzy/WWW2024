{
 "cells": [
  {
   "cell_type": "markdown",
   "metadata": {},
   "source": [
    "# Demo Introduction for the Trainer Class\n",
    "\n",
    "This demo provides a hands-on introduction to the Trainer class, which is designed to facilitate the training and evaluation of the Inception-based classifier for time series data. The demo will guide you through the process of training the model on multiple datasets, evaluating its performance, and consolidating the results.\n",
    "\n",
    "## How to Use the Demo:\n",
    "\n",
    "1. Setup:\n",
    "\n",
    "    Ensure that all the necessary dependencies and the Package module are accessible or available in the directory structure.\n",
    "    Create a directory named \"result\" to store the training and evaluation metrics.\n",
    "\n",
    "2. Training and Evaluation:\n",
    "\n",
    "    For each dataset in the datasets list, an instance of the Trainer class is created.\n",
    "    The train_and_evaluate() method is then called for each dataset, which trains the model and evaluates its performance on the test data.\n",
    "\n",
    "3. Consolidation of Results:\n",
    "\n",
    "- After training and evaluation are completed for all datasets, the concat_metrics_train function is called twice:\n",
    "\n",
    "    - First, to consolidate the training metrics across all datasets.\n",
    "\n",
    "    - Second, to consolidate the test metrics across all datasets.\n",
    "\n",
    "## What the Demo Does:\n",
    "\n",
    "- Training: For each dataset, the model is trained for a specified number of epochs. During training, the model's weights are updated using the Adam optimizer, and the learning rate is adjusted using a scheduler based on the test loss.\n",
    "\n",
    "- Evaluation: After training, the model's performance is evaluated on the test dataset. Metrics such as loss, accuracy, precision, recall, and F1 score are computed.\n",
    "\n",
    "- Logging and Checkpointing: The demo automatically handles checkpoints, saving model weights, and logging. For every 50 epochs, the model weights are saved, and the old weights are deleted to save storage space.\n",
    "\n",
    "- Result Consolidation: After training and evaluation for all datasets, the metrics are consolidated into two files:\n",
    "\n",
    "    - A file containing consolidated training metrics across all datasets.\n",
    "\n",
    "    - A file containing consolidated test metrics across all datasets.\n",
    "\n",
    "## Generated Files:\n",
    "\n",
    "- Model Weights: For each dataset, the final model weights are saved in a directory named after the dataset under the \"result\" directory.\n",
    "\n",
    "- Metrics: Two files, one for training metrics and one for test metrics, are generated in the \"result\" directory. These files consolidate the metrics across all datasets.\n",
    "\n",
    "- Logs: Logs related to training progress, evaluation results, and other relevant information are saved.\n",
    "\n",
    "To run the demo, simply execute the provided demo code. Ensure that the necessary datasets are available and that the system has the required computational resources, especially if GPU acceleration is being used."
   ]
  },
  {
   "cell_type": "code",
   "execution_count": 1,
   "metadata": {},
   "outputs": [],
   "source": [
    "# Please ensure the location of this ipynb file are in \"demo\" folder."
   ]
  },
  {
   "cell_type": "code",
   "execution_count": 1,
   "metadata": {},
   "outputs": [
    {
     "name": "stderr",
     "output_type": "stream",
     "text": [
      "WARNING:root:Home path not equal to work path, changing!\n"
     ]
    },
    {
     "name": "stdout",
     "output_type": "stream",
     "text": [
      "/Project/Local_Project/InceptionTime/InceptionTimeV2.9/CODE/demo\n"
     ]
    }
   ],
   "source": [
    "import sys\n",
    "import os\n",
    "__file__ = %pwd\n",
    "sys.path.append(os.path.dirname(__file__))\n",
    "from Package import *\n",
    "print(__file__)"
   ]
  },
  {
   "cell_type": "code",
   "execution_count": 2,
   "metadata": {},
   "outputs": [],
   "source": [
    "logger.setLevel(logging.INFO)"
   ]
  },
  {
   "cell_type": "code",
   "execution_count": 3,
   "metadata": {},
   "outputs": [],
   "source": [
    "trainer = Trainer(epoch=2)\n",
    "trainer.train_and_evaluate()"
   ]
  },
  {
   "cell_type": "code",
   "execution_count": null,
   "metadata": {},
   "outputs": [],
   "source": [
    "# Warning:\n",
    "# Note that the following code may overwrite the files under \"train_result\".\n",
    "# It is recommended that you make a backup."
   ]
  }
 ],
 "metadata": {
  "kernelspec": {
   "display_name": "torch",
   "language": "python",
   "name": "python3"
  },
  "language_info": {
   "codemirror_mode": {
    "name": "ipython",
    "version": 3
   },
   "file_extension": ".py",
   "mimetype": "text/x-python",
   "name": "python",
   "nbconvert_exporter": "python",
   "pygments_lexer": "ipython3",
   "version": "3.11.5"
  },
  "orig_nbformat": 4
 },
 "nbformat": 4,
 "nbformat_minor": 2
}
