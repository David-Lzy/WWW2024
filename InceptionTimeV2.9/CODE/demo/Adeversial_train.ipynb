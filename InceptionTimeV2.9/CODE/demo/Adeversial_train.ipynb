{
 "cells": [
  {
   "cell_type": "code",
   "execution_count": 1,
   "metadata": {},
   "outputs": [
    {
     "name": "stderr",
     "output_type": "stream",
     "text": [
      "WARNING:root:Home path not equal to work path, changing!\n"
     ]
    },
    {
     "name": "stdout",
     "output_type": "stream",
     "text": [
      "/Project/Local_Project/InceptionTimeV2.7/CODE/demo\n"
     ]
    }
   ],
   "source": [
    "import sys\n",
    "import os\n",
    "__file__ = %pwd\n",
    "sys.path.append(os.path.dirname(__file__))\n",
    "from Package import *\n",
    "print(__file__)"
   ]
  },
  {
   "cell_type": "code",
   "execution_count": 2,
   "metadata": {},
   "outputs": [],
   "source": [
    "logger = logging.getLogger()\n",
    "handler.setFormatter(formatter)\n",
    "logger.addHandler(handler)\n",
    "logger.setLevel(logging.INFO)"
   ]
  },
  {
   "cell_type": "code",
   "execution_count": 3,
   "metadata": {},
   "outputs": [],
   "source": [
    "dataset = \"Beef\"\n",
    "epoch = 500"
   ]
  },
  {
   "cell_type": "code",
   "execution_count": 4,
   "metadata": {},
   "outputs": [
    {
     "name": "stderr",
     "output_type": "stream",
     "text": [
      "INFO:root:Task already done. All epochs match: 1000.\n",
      "INFO:root:Pth file load from /Project/Local_Project/InceptionTimeV2.7/OUTPUT/train/defence=None/Beef\n",
      "INFO:root:Path /Project/Local_Project/InceptionTimeV2.7/OUTPUT/train/defence=None/Beef' Existed\n"
     ]
    }
   ],
   "source": [
    "trainer = Trainer(\n",
    "    dataset, \n",
    "    batch_size=256, \n",
    "    epoch = 1000, \n",
    "    override=False,\n",
    "    continue_train = False,\n",
    "    )\n",
    "trainer.train_and_evaluate()"
   ]
  },
  {
   "cell_type": "code",
   "execution_count": 5,
   "metadata": {},
   "outputs": [],
   "source": [
    "# raise Exception(\"Done\")"
   ]
  },
  {
   "cell_type": "code",
   "execution_count": 6,
   "metadata": {},
   "outputs": [
    {
     "name": "stderr",
     "output_type": "stream",
     "text": [
      "WARNING:root:adeversarial_training: True\n",
      "INFO:root:__________________________________________________\n",
      "\n",
      "INFO:root:Doing: Beef\n",
      "INFO:root:batch: 1\n",
      "INFO:root:>>>>>>>>>>>>>>>>>>>>>>>>>>>>>>>>>>>>>>>>>>>>>>>>>>\n",
      "\n",
      "INFO:root:Epoch: 100/100\n",
      "INFO:root:Path /Project/Local_Project/InceptionTimeV2.7/OUTPUT/attack/defence=None/swap=False_kl_loss=False_CW=False/Beef' Existed\n",
      "INFO:root:Done: Beef\n",
      "INFO:root:>>>>>>>>>>>>>>>>>>>>>>>>>>>>>>>>>>>>>>>>>>>>>>>>>>\n",
      "\n",
      "INFO:root:Path /Project/Local_Project/InceptionTimeV2.7/DATA/ADEVERSARIAL/swap=False_kl_loss=False_CW=False/Beef' Existed\n"
     ]
    }
   ],
   "source": [
    "keys=[]\n",
    "for k in sys.modules.keys():\n",
    "    if \"CODE.attack.mix\" in k:\n",
    "        print(k)\n",
    "        keys.append(k)\n",
    "for k in keys:\n",
    "    del sys.modules[k]\n",
    "\n",
    "from CODE.attack.mix import Mix\n",
    "model_class = Mix\n",
    "\n",
    "attacker = model_class(\n",
    "    dataset=dataset,\n",
    "    batch_size=128, \n",
    "    epoch=100, \n",
    "    swap=True,\n",
    "    kl_loss=True,\n",
    "    CW=True,\n",
    "    train_method_path = trainer.method_path,\n",
    "    adeversarial_training = True,\n",
    "    )\n",
    "attacker.perturb_all(\n",
    "    to_device=True,\n",
    "    override=True,\n",
    ")\n",
    "#pprint(attacker.data)\n",
    "\n",
    "attacker.build_adeversarial_training_data()\n"
   ]
  },
  {
   "cell_type": "code",
   "execution_count": 7,
   "metadata": {},
   "outputs": [
    {
     "name": "stderr",
     "output_type": "stream",
     "text": [
      "INFO:root:Path /Project/Local_Project/InceptionTimeV2.7/DATA/ADEVERSARIAL/swap=False_kl_loss=False_CW=False/Beef' Existed\n"
     ]
    }
   ],
   "source": [
    "attacker.build_adeversarial_training_data()"
   ]
  },
  {
   "cell_type": "code",
   "execution_count": 8,
   "metadata": {},
   "outputs": [
    {
     "data": {
      "text/plain": [
       "'/Project/Local_Project/InceptionTimeV2.7/DATA/UCRArchive_2018'"
      ]
     },
     "execution_count": 8,
     "metadata": {},
     "output_type": "execute_result"
    }
   ],
   "source": [
    "DATASET_path"
   ]
  },
  {
   "cell_type": "code",
   "execution_count": 9,
   "metadata": {},
   "outputs": [],
   "source": [
    "# pd.read_csv(\n",
    "#     os.path.join(\n",
    "#         attacker.out_dir,\n",
    "#         \"x_perturb.tsv\"), sep=\"\\t\",header=None)"
   ]
  },
  {
   "cell_type": "code",
   "execution_count": 10,
   "metadata": {},
   "outputs": [],
   "source": [
    "# raise KeyboardInterrupt"
   ]
  },
  {
   "cell_type": "code",
   "execution_count": 11,
   "metadata": {},
   "outputs": [
    {
     "name": "stderr",
     "output_type": "stream",
     "text": [
      "INFO:root:Task already done. All epochs match: 1000.\n",
      "INFO:root:Pth file load from /Project/Local_Project/InceptionTimeV2.7/OUTPUT/train/defence=adeversarial_training_from.swap=False_kl_loss=False_CW=False/Beef\n",
      "INFO:root:Path /Project/Local_Project/InceptionTimeV2.7/OUTPUT/train/defence=adeversarial_training_from.swap=False_kl_loss=False_CW=False/Beef' Existed\n"
     ]
    }
   ],
   "source": [
    "trainer = Trainer(\n",
    "    dataset, \n",
    "    batch_size=256, \n",
    "    epoch = 1000, \n",
    "    override=False,\n",
    "    continue_train = False,\n",
    "    adeversarial_training = True,\n",
    "    adeversarial_path=attacker.attack_method_path\n",
    "    )\n",
    "trainer.train_and_evaluate()"
   ]
  },
  {
   "cell_type": "code",
   "execution_count": 12,
   "metadata": {},
   "outputs": [],
   "source": [
    "# determine_epochs(100,1000) trainer"
   ]
  },
  {
   "cell_type": "code",
   "execution_count": 13,
   "metadata": {},
   "outputs": [
    {
     "data": {
      "text/plain": [
       "'defence=adeversarial_training_from.swap=False_kl_loss=False_CW=False'"
      ]
     },
     "execution_count": 13,
     "metadata": {},
     "output_type": "execute_result"
    }
   ],
   "source": [
    "trainer.method_path"
   ]
  },
  {
   "cell_type": "code",
   "execution_count": 14,
   "metadata": {},
   "outputs": [
    {
     "name": "stderr",
     "output_type": "stream",
     "text": [
      "WARNING:root:adeversarial_training: False\n",
      "INFO:root:__________________________________________________\n",
      "\n",
      "INFO:root:Doing: Beef\n",
      "INFO:root:batch: 1\n",
      "INFO:root:>>>>>>>>>>>>>>>>>>>>>>>>>>>>>>>>>>>>>>>>>>>>>>>>>>\n",
      "\n",
      "INFO:root:Epoch: 100/100\n",
      "INFO:root:Path /Project/Local_Project/InceptionTimeV2.7/OUTPUT/attack/defence=adeversarial_training_from.swap=False_kl_loss=False_CW=False/swap=False_kl_loss=False_CW=False/Beef' Created\n",
      "INFO:root:Done: Beef\n",
      "INFO:root:>>>>>>>>>>>>>>>>>>>>>>>>>>>>>>>>>>>>>>>>>>>>>>>>>>\n",
      "\n"
     ]
    },
    {
     "name": "stdout",
     "output_type": "stream",
     "text": [
      "{'ASR': 0.9666666666666667,\n",
      " 'Count_Fail': 1,\n",
      " 'Count_Success': 29,\n",
      " 'duration': 3.0816662311553955,\n",
      " 'mean_failure_distance': 0.9449802,\n",
      " 'mean_success_distance': 0.13989416,\n",
      " 'overall_mean_distance': 0.16673037}\n"
     ]
    }
   ],
   "source": [
    "attacker = model_class(\n",
    "    dataset=dataset,\n",
    "    batch_size=128, \n",
    "    epoch=100, \n",
    "    swap=True,\n",
    "    kl_loss=True,\n",
    "    CW=True,\n",
    "    train_method_path = trainer.method_path,\n",
    "    adeversarial_training = False,\n",
    "    )\n",
    "attacker.perturb_all(\n",
    "    to_device=True,\n",
    "    override=True,\n",
    ")\n",
    "pprint(attacker.data)"
   ]
  }
 ],
 "metadata": {
  "kernelspec": {
   "display_name": "tf-gpu",
   "language": "python",
   "name": "python3"
  },
  "language_info": {
   "codemirror_mode": {
    "name": "ipython",
    "version": 3
   },
   "file_extension": ".py",
   "mimetype": "text/x-python",
   "name": "python",
   "nbconvert_exporter": "python",
   "pygments_lexer": "ipython3",
   "version": "3.10.10"
  }
 },
 "nbformat": 4,
 "nbformat_minor": 2
}
